{
 "cells": [
  {
   "cell_type": "markdown",
   "metadata": {},
   "source": [
    "# Notebook for Importing Galex AIS and MIS in to LSD"
   ]
  },
  {
   "cell_type": "markdown",
   "metadata": {},
   "source": [
    "## Set paths for lsd environment"
   ]
  },
  {
   "cell_type": "code",
   "execution_count": 1,
   "metadata": {},
   "outputs": [],
   "source": [
    "import os\n",
    "os.environ['PATH'] = \"/epyc/opt/anaconda/envs/py27/bin:\" + os.environ['PATH']\n",
    "os.environ['LSD_DB'] = \"/epyc/projects/lsd-archive/db:/epyc/data/lsddb\""
   ]
  },
  {
   "cell_type": "code",
   "execution_count": null,
   "metadata": {},
   "outputs": [],
   "source": [
    "! echo $LSD_DB"
   ]
  },
  {
   "cell_type": "code",
   "execution_count": 2,
   "metadata": {},
   "outputs": [
    {
     "name": "stdout",
     "output_type": "stream",
     "text": [
      "Large Survey Database, version \r\n"
     ]
    }
   ],
   "source": [
    "! lsd-query --version"
   ]
  },
  {
   "cell_type": "markdown",
   "metadata": {},
   "source": [
    "## Create table"
   ]
  },
  {
   "cell_type": "code",
   "execution_count": 3,
   "metadata": {},
   "outputs": [
    {
     "name": "stdout",
     "output_type": "stream",
     "text": [
      "usage: lsd-admin create table [-h] [--primary-key PRIMARY_KEY]\r\n",
      "                              [--spatial-keys SPATIAL_KEYS]\r\n",
      "                              [--temporal-key TEMPORAL_KEY]\r\n",
      "                              [--exposure-key EXPOSURE_KEY]\r\n",
      "                              [--no-neighbor-cache NO_NEIGHBOR_CACHE]\r\n",
      "                              [--schema-module SCHEMA_MODULE]\r\n",
      "                              [--schema SCHEMA] [--comp {blosc,zlib,none}]\r\n",
      "                              [--comp-level COMP_LEVEL] [--group GROUP]\r\n",
      "                              [--drop-existing]\r\n",
      "                              table [column_def [column_def ...]]\r\n",
      "\r\n",
      "positional arguments:\r\n",
      "  table                 Name of the table to create\r\n",
      "  column_def            A column definition, in the form of NAME:TYPE, where\r\n",
      "                        TYPE is a string that will be passed to np.dtype\r\n",
      "\r\n",
      "optional arguments:\r\n",
      "  -h, --help            show this help message and exit\r\n",
      "  --primary-key PRIMARY_KEY\r\n",
      "                        Primary key\r\n",
      "  --spatial-keys SPATIAL_KEYS\r\n",
      "                        Spatial keys\r\n",
      "  --temporal-key TEMPORAL_KEY\r\n",
      "                        Temporal key\r\n",
      "  --exposure-key EXPOSURE_KEY\r\n",
      "                        Exposure key\r\n",
      "  --no-neighbor-cache NO_NEIGHBOR_CACHE\r\n",
      "                        No neighbor caches will be built for this table (note:\r\n",
      "                        use only if you _really_ know what you're doing\r\n",
      "  --schema-module SCHEMA_MODULE\r\n",
      "                        The module defining the table schema, in top-level\r\n",
      "                        variable named \"schema\"\r\n",
      "  --schema SCHEMA       A file containing the table schema in YAML format\r\n",
      "  --comp {blosc,zlib,none}\r\n",
      "                        Compression type\r\n",
      "  --comp-level COMP_LEVEL\r\n",
      "                        Compression level. Higher levels result in better\r\n",
      "                        compression ratios, at the expense of increased CPU\r\n",
      "                        usage\r\n",
      "  --group GROUP         cgroup:col1,col2,col3,... The column group name,\r\n",
      "                        followed by the list of columns to be located in this\r\n",
      "                        column group\r\n",
      "  --drop-existing       Drop the table if it already exists\r\n"
     ]
    }
   ],
   "source": [
    "! lsd-admin create table -h"
   ]
  },
  {
   "cell_type": "code",
   "execution_count": null,
   "metadata": {},
   "outputs": [],
   "source": [
    "! lsd-admin create table --schema=galex.yaml galex_gr5_mis"
   ]
  },
  {
   "cell_type": "code",
   "execution_count": null,
   "metadata": {},
   "outputs": [],
   "source": [
    "! lsd-admin create table --schema=galex.yaml galex_gr5_ais"
   ]
  },
  {
   "cell_type": "markdown",
   "metadata": {},
   "source": [
    "## Import files into created tables using .map files"
   ]
  },
  {
   "cell_type": "code",
   "execution_count": 4,
   "metadata": {},
   "outputs": [
    {
     "name": "stdout",
     "output_type": "stream",
     "text": [
      "objid                  1\r\n",
      "ra                     2\r\n",
      "dec                    3\r\n",
      "glon                   4\r\n",
      "glat                   5\r\n",
      "fov_radius             9\r\n",
      "objtype               14\r\n",
      "e_bv                  12\r\n",
      "fuv_mag               16\r\n",
      "fuv_magerr            17\r\n"
     ]
    }
   ],
   "source": [
    "! head galex_mis.map"
   ]
  },
  {
   "cell_type": "code",
   "execution_count": null,
   "metadata": {},
   "outputs": [],
   "source": [
    "# Replace /epyc/projects/lsd-archive/db/galex_data/MIS/*.csv.gz with path to data files\n",
    "! lsd-import text --force -d , galex_gr5_mis \\\n",
    "    --cols-file=galex_mis.map \\\n",
    "    /epyc/projects/lsd-archive/db/galex_data/MIS/*.csv.gz"
   ]
  },
  {
   "cell_type": "code",
   "execution_count": null,
   "metadata": {},
   "outputs": [],
   "source": [
    "! lsd-import text --force -d , galex_gr5_ais \\\n",
    "    --cols-file=galex_ais.map \\\n",
    "    /epyc/projects/lsd-archive/db/galex_data/AIS/*.csv.gz"
   ]
  },
  {
   "cell_type": "markdown",
   "metadata": {},
   "source": [
    "## Check tables"
   ]
  },
  {
   "cell_type": "code",
   "execution_count": 5,
   "metadata": {},
   "outputs": [
    {
     "name": "stdout",
     "output_type": "stream",
     "text": [
      "Path:          /epyc/projects/lsd-archive/db/galex_gr5_mis\r\n",
      "Partitioning:  level=6\r\n",
      "(t0, dt):      54335.000000, 1.000000 \r\n",
      "Rows:          12597912\r\n",
      "Columns:       56\r\n",
      "Primary key:   galex_id\r\n",
      "Spatial keys:  (ra, dec)\r\n",
      "Aliases:       []\r\n",
      "Column groups: ['common', 'astrometry', 'photoextra', 'survey']\r\n",
      "-------------------------------\r\n",
      "Column group 'common':\r\n",
      "              Column       Type\r\n",
      "-------------------------------\r\n",
      "            galex_id         u8\r\n",
      "               objid         u8\r\n",
      "                  ra         f8\r\n",
      "                 dec         f8\r\n",
      "                glon         f8\r\n",
      "                glat         f8\r\n",
      "          fov_radius         f4\r\n",
      "             objtype         i2\r\n",
      "                e_bv         f4\r\n",
      "             fuv_mag         f4\r\n",
      "          fuv_magerr         f4\r\n",
      "             nuv_mag         f4\r\n",
      "          nuv_magerr         f4\r\n",
      "      photoextractid         u8\r\n",
      "-------------------------------\r\n",
      "-------------------------------\r\n",
      "Column group 'astrometry':\r\n",
      "              Column       Type\r\n",
      "-------------------------------\r\n",
      "         fuv_x_image         f4\r\n",
      "         fuv_y_image         f4\r\n",
      "         nuv_x_image         f4\r\n",
      "         nuv_y_image         f4\r\n",
      "      fuv_fwhm_image         f4\r\n",
      "      nuv_fwhm_image         f4\r\n",
      "      fuv_fwhm_world         f4\r\n",
      "      nuv_fwhm_world         f4\r\n",
      "-------------------------------\r\n",
      "-------------------------------\r\n",
      "Column group 'photoextra':\r\n",
      "              Column       Type\r\n",
      "-------------------------------\r\n",
      "        fuv_mag_best         f4\r\n",
      "     fuv_magerr_best         f4\r\n",
      "        nuv_mag_best         f4\r\n",
      "     nuv_magerr_best         f4\r\n",
      "        fuv_mag_auto         f4\r\n",
      "     fuv_magerr_auto         f4\r\n",
      "        nuv_mag_auto         f4\r\n",
      "     nuv_magerr_auto         f4\r\n",
      "      fuv_mag_aper_4         f4\r\n",
      "   fuv_magerr_aper_4         f4\r\n",
      "      nuv_mag_aper_4         f4\r\n",
      "   nuv_magerr_aper_4         f4\r\n",
      "      fuv_mag_aper_6         f4\r\n",
      "   fuv_magerr_aper_6         f4\r\n",
      "      nuv_mag_aper_6         f4\r\n",
      "   nuv_magerr_aper_6         f4\r\n",
      "        fuv_artifact         f4\r\n",
      "        nuv_artifact         f4\r\n",
      "           fuv_flags         f4\r\n",
      "           nuv_flags         f4\r\n",
      "            fuv_flux         f4\r\n",
      "         fuv_fluxerr         f4\r\n",
      "            nuv_flux         f4\r\n",
      "         nuv_fluxerr         f4\r\n",
      "-------------------------------\r\n",
      "-------------------------------\r\n",
      "Column group 'survey':\r\n",
      "              Column       Type\r\n",
      "-------------------------------\r\n",
      "             tilenum         i4\r\n",
      "                 img         i4\r\n",
      "            subvisit         i2\r\n",
      "                type         i4\r\n",
      "                band         i4\r\n",
      "     istherespectrum       bool\r\n",
      "             quality         u4\r\n",
      "             mpstype         a3\r\n",
      "             avaspra         f8\r\n",
      "            avaspdec         f8\r\n",
      "-------------------------------\r\n",
      "\r\n"
     ]
    }
   ],
   "source": [
    "! lsd-admin desc table galex_gr5_mis"
   ]
  },
  {
   "cell_type": "code",
   "execution_count": 6,
   "metadata": {},
   "outputs": [
    {
     "name": "stdout",
     "output_type": "stream",
     "text": [
      "Path:          /epyc/projects/lsd-archive/db/galex_gr5_ais\r\n",
      "Partitioning:  level=6\r\n",
      "(t0, dt):      54335.000000, 1.000000 \r\n",
      "Rows:          64932472\r\n",
      "Columns:       56\r\n",
      "Primary key:   galex_id\r\n",
      "Spatial keys:  (ra, dec)\r\n",
      "Aliases:       []\r\n",
      "Column groups: ['common', 'astrometry', 'photoextra', 'survey']\r\n",
      "-------------------------------\r\n",
      "Column group 'common':\r\n",
      "              Column       Type\r\n",
      "-------------------------------\r\n",
      "            galex_id         u8\r\n",
      "               objid         u8\r\n",
      "                  ra         f8\r\n",
      "                 dec         f8\r\n",
      "                glon         f8\r\n",
      "                glat         f8\r\n",
      "          fov_radius         f4\r\n",
      "             objtype         i2\r\n",
      "                e_bv         f4\r\n",
      "             fuv_mag         f4\r\n",
      "          fuv_magerr         f4\r\n",
      "             nuv_mag         f4\r\n",
      "          nuv_magerr         f4\r\n",
      "      photoextractid         u8\r\n",
      "-------------------------------\r\n",
      "-------------------------------\r\n",
      "Column group 'astrometry':\r\n",
      "              Column       Type\r\n",
      "-------------------------------\r\n",
      "         fuv_x_image         f4\r\n",
      "         fuv_y_image         f4\r\n",
      "         nuv_x_image         f4\r\n",
      "         nuv_y_image         f4\r\n",
      "      fuv_fwhm_image         f4\r\n",
      "      nuv_fwhm_image         f4\r\n",
      "      fuv_fwhm_world         f4\r\n",
      "      nuv_fwhm_world         f4\r\n",
      "-------------------------------\r\n",
      "-------------------------------\r\n",
      "Column group 'photoextra':\r\n",
      "              Column       Type\r\n",
      "-------------------------------\r\n",
      "        fuv_mag_best         f4\r\n",
      "     fuv_magerr_best         f4\r\n",
      "        nuv_mag_best         f4\r\n",
      "     nuv_magerr_best         f4\r\n",
      "        fuv_mag_auto         f4\r\n",
      "     fuv_magerr_auto         f4\r\n",
      "        nuv_mag_auto         f4\r\n",
      "     nuv_magerr_auto         f4\r\n",
      "      fuv_mag_aper_4         f4\r\n",
      "   fuv_magerr_aper_4         f4\r\n",
      "      nuv_mag_aper_4         f4\r\n",
      "   nuv_magerr_aper_4         f4\r\n",
      "      fuv_mag_aper_6         f4\r\n",
      "   fuv_magerr_aper_6         f4\r\n",
      "      nuv_mag_aper_6         f4\r\n",
      "   nuv_magerr_aper_6         f4\r\n",
      "        fuv_artifact         f4\r\n",
      "        nuv_artifact         f4\r\n",
      "           fuv_flags         f4\r\n",
      "           nuv_flags         f4\r\n",
      "            fuv_flux         f4\r\n",
      "         fuv_fluxerr         f4\r\n",
      "            nuv_flux         f4\r\n",
      "         nuv_fluxerr         f4\r\n",
      "-------------------------------\r\n",
      "-------------------------------\r\n",
      "Column group 'survey':\r\n",
      "              Column       Type\r\n",
      "-------------------------------\r\n",
      "             tilenum         i4\r\n",
      "                 img         i4\r\n",
      "            subvisit         i2\r\n",
      "                type         i4\r\n",
      "                band         i4\r\n",
      "     istherespectrum       bool\r\n",
      "             quality         u4\r\n",
      "             mpstype         a3\r\n",
      "             avaspra         f8\r\n",
      "            avaspdec         f8\r\n",
      "-------------------------------\r\n",
      "\r\n"
     ]
    }
   ],
   "source": [
    "! lsd-admin desc table galex_gr5_ais"
   ]
  },
  {
   "cell_type": "markdown",
   "metadata": {},
   "source": [
    "## Example Query"
   ]
  },
  {
   "cell_type": "code",
   "execution_count": null,
   "metadata": {},
   "outputs": [],
   "source": [
    "! lsd-query --bounds='beam(200, 40, 0.05)' 'select ra, dec from galex_gr5_mis'"
   ]
  }
 ],
 "metadata": {
  "kernelspec": {
   "display_name": "Python 2.7",
   "language": "python",
   "name": "python2"
  },
  "language_info": {
   "codemirror_mode": {
    "name": "ipython",
    "version": 2
   },
   "file_extension": ".py",
   "mimetype": "text/x-python",
   "name": "python",
   "nbconvert_exporter": "python",
   "pygments_lexer": "ipython2",
   "version": "2.7.14"
  }
 },
 "nbformat": 4,
 "nbformat_minor": 2
}
